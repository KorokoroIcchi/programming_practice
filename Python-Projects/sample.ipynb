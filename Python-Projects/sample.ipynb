{
 "cells": [
  {
   "cell_type": "code",
   "execution_count": 3,
   "metadata": {},
   "outputs": [
    {
     "name": "stdout",
     "output_type": "stream",
     "text": [
      "Python        3.9.12\n",
      "gapminder     0.1\n",
      "matplotlib    3.5.1\n",
      "numpy         1.21.5\n",
      "pandas        1.4.2\n",
      "scipy         1.7.3\n",
      "see           1.4.1\n"
     ]
    }
   ],
   "source": [
    "import gapminder, matplotlib, numpy, pandas, scipy, see\n",
    "from platform import python_version\n",
    "\n",
    "packages = ['Python', 'gapminder', 'matplotlib', 'numpy','pandas', 'scipy','see']\n",
    "versions = [python_version(), gapminder.__version__, matplotlib.__version__, numpy.__version__, pandas.__version__, scipy.__version__, see.__version__]\n",
    "\n",
    "for pack, ver in zip(packages, versions):\n",
    "    print(f'{pack:14}{ver}')"
   ]
  },
  {
   "cell_type": "code",
   "execution_count": null,
   "metadata": {},
   "outputs": [],
   "source": []
  }
 ],
 "metadata": {
  "kernelspec": {
   "display_name": "Python 3.9.12 ('base')",
   "language": "python",
   "name": "python3"
  },
  "language_info": {
   "codemirror_mode": {
    "name": "ipython",
    "version": 3
   },
   "file_extension": ".py",
   "mimetype": "text/x-python",
   "name": "python",
   "nbconvert_exporter": "python",
   "pygments_lexer": "ipython3",
   "version": "3.9.12"
  },
  "orig_nbformat": 4,
  "vscode": {
   "interpreter": {
    "hash": "ed62f4428d705ce12d0dd8b1913229aa57afd7a96d084fd0432cf448bfc3b55f"
   }
  }
 },
 "nbformat": 4,
 "nbformat_minor": 2
}
